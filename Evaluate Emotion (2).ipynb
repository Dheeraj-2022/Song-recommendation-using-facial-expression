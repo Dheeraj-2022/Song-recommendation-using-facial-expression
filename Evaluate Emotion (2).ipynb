{
 "cells": [
  {
   "cell_type": "code",
   "execution_count": 1,
   "id": "92f8c127",
   "metadata": {},
   "outputs": [],
   "source": [
    "import cv2\n",
    "from keras.models import Sequential\n",
    "from keras.layers import Conv2D, MaxPooling2D, Dense, Dropout, Flatten\n",
    "from keras.optimizers import Adam\n",
    "from keras.preprocessing.image import ImageDataGenerator\n",
    "from PIL import Image"
   ]
  },
  {
   "cell_type": "code",
   "execution_count": 2,
   "id": "777601b3",
   "metadata": {},
   "outputs": [],
   "source": [
    "train_data_gen = ImageDataGenerator(rescale=1./255)\n",
    "validation_data_gen = ImageDataGenerator(rescale=1./255)"
   ]
  },
  {
   "cell_type": "code",
   "execution_count": 8,
   "id": "c541318a",
   "metadata": {},
   "outputs": [
    {
     "data": {
      "text/plain": [
       "(48, 48)"
      ]
     },
     "execution_count": 8,
     "metadata": {},
     "output_type": "execute_result"
    }
   ],
   "source": [
    "image=Image.open('data/train1/1/Training_10598340.jpg')\n",
    "image.size"
   ]
  },
  {
   "cell_type": "code",
   "execution_count": 3,
   "id": "afd3f1d2",
   "metadata": {},
   "outputs": [
    {
     "name": "stdout",
     "output_type": "stream",
     "text": [
      "Found 28709 images belonging to 7 classes.\n"
     ]
    }
   ],
   "source": [
    "import os\n",
    "train_generator = train_data_gen.flow_from_directory(\n",
    "        \"data/train1\",\n",
    "        target_size=(48, 48),\n",
    "        batch_size=64,\n",
    "        color_mode=\"grayscale\",\n",
    "        class_mode='categorical')"
   ]
  },
  {
   "cell_type": "code",
   "execution_count": 4,
   "id": "0217ab42",
   "metadata": {},
   "outputs": [
    {
     "name": "stdout",
     "output_type": "stream",
     "text": [
      "Found 7178 images belonging to 7 classes.\n"
     ]
    }
   ],
   "source": [
    "validation_generator = validation_data_gen.flow_from_directory(\n",
    "        \"data/test1\",\n",
    "        target_size=(48, 48),\n",
    "        batch_size=64,\n",
    "        color_mode=\"grayscale\",\n",
    "        class_mode='categorical')"
   ]
  },
  {
   "cell_type": "code",
   "execution_count": 5,
   "id": "26eda073",
   "metadata": {},
   "outputs": [],
   "source": [
    "emotion_model = Sequential()\n",
    "\n",
    "emotion_model.add(Conv2D(32, kernel_size=(3, 3), activation='relu', input_shape=(48, 48, 1)))\n",
    "emotion_model.add(Conv2D(64, kernel_size=(3, 3), activation='relu'))\n",
    "emotion_model.add(MaxPooling2D(pool_size=(2, 2)))\n",
    "emotion_model.add(Dropout(0.25))\n",
    "\n",
    "emotion_model.add(Conv2D(128, kernel_size=(3, 3), activation='relu'))\n",
    "emotion_model.add(MaxPooling2D(pool_size=(2, 2)))\n",
    "emotion_model.add(Conv2D(128, kernel_size=(3, 3), activation='relu'))\n",
    "emotion_model.add(MaxPooling2D(pool_size=(2, 2)))\n",
    "emotion_model.add(Dropout(0.25))\n",
    "\n",
    "emotion_model.add(Flatten())\n",
    "emotion_model.add(Dense(1024, activation='relu'))\n",
    "emotion_model.add(Dropout(0.5))\n",
    "emotion_model.add(Dense(7, activation='softmax'))"
   ]
  },
  {
   "cell_type": "code",
   "execution_count": 6,
   "id": "0261cb83",
   "metadata": {},
   "outputs": [],
   "source": [
    "cv2.ocl.setUseOpenCL(False)"
   ]
  },
  {
   "cell_type": "code",
   "execution_count": 7,
   "id": "adb5fa9f",
   "metadata": {},
   "outputs": [],
   "source": [
    "emotion_model.compile(loss='categorical_crossentropy', optimizer=Adam(learning_rate =0.0001, decay=1e-6), metrics=['accuracy'])"
   ]
  },
  {
   "cell_type": "code",
   "execution_count": 8,
   "id": "67fd2e77",
   "metadata": {},
   "outputs": [
    {
     "name": "stdout",
     "output_type": "stream",
     "text": [
      "Epoch 1/50\n",
      "448/448 [==============================] - 522s 1s/step - loss: 1.7998 - accuracy: 0.2593 - val_loss: 1.6920 - val_accuracy: 0.3472\n",
      "Epoch 2/50\n",
      "448/448 [==============================] - 205s 457ms/step - loss: 1.6186 - accuracy: 0.3696 - val_loss: 1.5247 - val_accuracy: 0.4220\n",
      "Epoch 3/50\n",
      "448/448 [==============================] - 208s 463ms/step - loss: 1.5180 - accuracy: 0.4164 - val_loss: 1.4505 - val_accuracy: 0.4417\n",
      "Epoch 4/50\n",
      "448/448 [==============================] - 203s 452ms/step - loss: 1.4421 - accuracy: 0.4481 - val_loss: 1.3832 - val_accuracy: 0.4741\n",
      "Epoch 5/50\n",
      "448/448 [==============================] - 202s 450ms/step - loss: 1.3815 - accuracy: 0.4761 - val_loss: 1.3521 - val_accuracy: 0.4817\n",
      "Epoch 6/50\n",
      "448/448 [==============================] - 206s 459ms/step - loss: 1.3306 - accuracy: 0.4968 - val_loss: 1.2899 - val_accuracy: 0.5102\n",
      "Epoch 7/50\n",
      "448/448 [==============================] - 206s 460ms/step - loss: 1.2870 - accuracy: 0.5139 - val_loss: 1.2586 - val_accuracy: 0.5258\n",
      "Epoch 8/50\n",
      "448/448 [==============================] - 207s 462ms/step - loss: 1.2530 - accuracy: 0.5284 - val_loss: 1.2327 - val_accuracy: 0.5339\n",
      "Epoch 9/50\n",
      "448/448 [==============================] - 205s 457ms/step - loss: 1.2174 - accuracy: 0.5400 - val_loss: 1.2099 - val_accuracy: 0.5414\n",
      "Epoch 10/50\n",
      "448/448 [==============================] - 208s 464ms/step - loss: 1.1866 - accuracy: 0.5563 - val_loss: 1.1958 - val_accuracy: 0.5423\n",
      "Epoch 11/50\n",
      "448/448 [==============================] - 503s 1s/step - loss: 1.1639 - accuracy: 0.5620 - val_loss: 1.1665 - val_accuracy: 0.5530\n",
      "Epoch 12/50\n",
      "448/448 [==============================] - 208s 463ms/step - loss: 1.1376 - accuracy: 0.5731 - val_loss: 1.1558 - val_accuracy: 0.5601\n",
      "Epoch 13/50\n",
      "448/448 [==============================] - 215s 481ms/step - loss: 1.1107 - accuracy: 0.5813 - val_loss: 1.1426 - val_accuracy: 0.5658\n",
      "Epoch 14/50\n",
      "448/448 [==============================] - 209s 467ms/step - loss: 1.0862 - accuracy: 0.5933 - val_loss: 1.1362 - val_accuracy: 0.5693\n",
      "Epoch 15/50\n",
      "448/448 [==============================] - 209s 467ms/step - loss: 1.0605 - accuracy: 0.6029 - val_loss: 1.1196 - val_accuracy: 0.5794\n",
      "Epoch 16/50\n",
      "448/448 [==============================] - 208s 465ms/step - loss: 1.0407 - accuracy: 0.6126 - val_loss: 1.1098 - val_accuracy: 0.5847\n",
      "Epoch 17/50\n",
      "448/448 [==============================] - 259s 578ms/step - loss: 1.0161 - accuracy: 0.6224 - val_loss: 1.1131 - val_accuracy: 0.5819\n",
      "Epoch 18/50\n",
      "448/448 [==============================] - 209s 467ms/step - loss: 0.9922 - accuracy: 0.6327 - val_loss: 1.1012 - val_accuracy: 0.5898\n",
      "Epoch 19/50\n",
      "448/448 [==============================] - 208s 465ms/step - loss: 0.9689 - accuracy: 0.6402 - val_loss: 1.0902 - val_accuracy: 0.5911\n",
      "Epoch 20/50\n",
      "448/448 [==============================] - 210s 468ms/step - loss: 0.9450 - accuracy: 0.6496 - val_loss: 1.0934 - val_accuracy: 0.5921\n",
      "Epoch 21/50\n",
      "448/448 [==============================] - 208s 465ms/step - loss: 0.9167 - accuracy: 0.6597 - val_loss: 1.0854 - val_accuracy: 0.5963\n",
      "Epoch 22/50\n",
      "448/448 [==============================] - 208s 465ms/step - loss: 0.9020 - accuracy: 0.6665 - val_loss: 1.0803 - val_accuracy: 0.5996\n",
      "Epoch 23/50\n",
      "448/448 [==============================] - 208s 465ms/step - loss: 0.8731 - accuracy: 0.6778 - val_loss: 1.0674 - val_accuracy: 0.6064\n",
      "Epoch 24/50\n",
      "448/448 [==============================] - 209s 468ms/step - loss: 0.8501 - accuracy: 0.6857 - val_loss: 1.0775 - val_accuracy: 0.6024\n",
      "Epoch 25/50\n",
      "448/448 [==============================] - 209s 466ms/step - loss: 0.8288 - accuracy: 0.6957 - val_loss: 1.0754 - val_accuracy: 0.6077\n",
      "Epoch 26/50\n",
      "448/448 [==============================] - 209s 467ms/step - loss: 0.8097 - accuracy: 0.7009 - val_loss: 1.0704 - val_accuracy: 0.6069\n",
      "Epoch 27/50\n",
      "448/448 [==============================] - 181s 403ms/step - loss: 0.7862 - accuracy: 0.7114 - val_loss: 1.0713 - val_accuracy: 0.6108\n",
      "Epoch 28/50\n",
      "448/448 [==============================] - 183s 410ms/step - loss: 0.7643 - accuracy: 0.7215 - val_loss: 1.0878 - val_accuracy: 0.6108\n",
      "Epoch 29/50\n",
      "448/448 [==============================] - 118s 262ms/step - loss: 0.7385 - accuracy: 0.7306 - val_loss: 1.0703 - val_accuracy: 0.6179\n",
      "Epoch 30/50\n",
      "448/448 [==============================] - 115s 257ms/step - loss: 0.7151 - accuracy: 0.7381 - val_loss: 1.0730 - val_accuracy: 0.6151\n",
      "Epoch 31/50\n",
      "448/448 [==============================] - 115s 257ms/step - loss: 0.6923 - accuracy: 0.7468 - val_loss: 1.0807 - val_accuracy: 0.6143\n",
      "Epoch 32/50\n",
      "448/448 [==============================] - 115s 256ms/step - loss: 0.6679 - accuracy: 0.7582 - val_loss: 1.0936 - val_accuracy: 0.6143\n",
      "Epoch 33/50\n",
      "448/448 [==============================] - 115s 256ms/step - loss: 0.6517 - accuracy: 0.7631 - val_loss: 1.0885 - val_accuracy: 0.6193\n",
      "Epoch 34/50\n",
      "448/448 [==============================] - 121s 270ms/step - loss: 0.6265 - accuracy: 0.7698 - val_loss: 1.0943 - val_accuracy: 0.6177\n",
      "Epoch 35/50\n",
      "448/448 [==============================] - 123s 274ms/step - loss: 0.6097 - accuracy: 0.7814 - val_loss: 1.1020 - val_accuracy: 0.6184\n",
      "Epoch 36/50\n",
      "448/448 [==============================] - 119s 266ms/step - loss: 0.5861 - accuracy: 0.7867 - val_loss: 1.0994 - val_accuracy: 0.6175\n",
      "Epoch 37/50\n",
      "448/448 [==============================] - 120s 267ms/step - loss: 0.5681 - accuracy: 0.7950 - val_loss: 1.1125 - val_accuracy: 0.6200\n",
      "Epoch 38/50\n",
      "448/448 [==============================] - 122s 273ms/step - loss: 0.5480 - accuracy: 0.8004 - val_loss: 1.1206 - val_accuracy: 0.6176\n",
      "Epoch 39/50\n",
      "448/448 [==============================] - 122s 273ms/step - loss: 0.5300 - accuracy: 0.8085 - val_loss: 1.1196 - val_accuracy: 0.6225\n",
      "Epoch 40/50\n",
      "448/448 [==============================] - 119s 265ms/step - loss: 0.5084 - accuracy: 0.8156 - val_loss: 1.1337 - val_accuracy: 0.6225\n",
      "Epoch 41/50\n",
      "448/448 [==============================] - 120s 268ms/step - loss: 0.4963 - accuracy: 0.8204 - val_loss: 1.1368 - val_accuracy: 0.6283\n",
      "Epoch 42/50\n",
      "448/448 [==============================] - 119s 265ms/step - loss: 0.4843 - accuracy: 0.8240 - val_loss: 1.1316 - val_accuracy: 0.6288\n",
      "Epoch 43/50\n",
      "448/448 [==============================] - 119s 266ms/step - loss: 0.4673 - accuracy: 0.8345 - val_loss: 1.1487 - val_accuracy: 0.6243\n",
      "Epoch 44/50\n",
      "448/448 [==============================] - 121s 269ms/step - loss: 0.4512 - accuracy: 0.8386 - val_loss: 1.1506 - val_accuracy: 0.6223\n",
      "Epoch 45/50\n",
      "448/448 [==============================] - 121s 269ms/step - loss: 0.4333 - accuracy: 0.8434 - val_loss: 1.1693 - val_accuracy: 0.6278\n",
      "Epoch 46/50\n",
      "448/448 [==============================] - 121s 271ms/step - loss: 0.4254 - accuracy: 0.8473 - val_loss: 1.1768 - val_accuracy: 0.6275\n",
      "Epoch 47/50\n",
      "448/448 [==============================] - 122s 271ms/step - loss: 0.4128 - accuracy: 0.8522 - val_loss: 1.1812 - val_accuracy: 0.6249\n",
      "Epoch 48/50\n",
      "448/448 [==============================] - 121s 270ms/step - loss: 0.4021 - accuracy: 0.8548 - val_loss: 1.2025 - val_accuracy: 0.6229\n",
      "Epoch 49/50\n",
      "448/448 [==============================] - 123s 275ms/step - loss: 0.3885 - accuracy: 0.8604 - val_loss: 1.2019 - val_accuracy: 0.6243\n",
      "Epoch 50/50\n",
      "448/448 [==============================] - 119s 266ms/step - loss: 0.3725 - accuracy: 0.8651 - val_loss: 1.1952 - val_accuracy: 0.6230\n"
     ]
    }
   ],
   "source": [
    "emotion_model_info = emotion_model.fit(\n",
    "        train_generator,\n",
    "        steps_per_epoch=28709//64,\n",
    "        epochs=50,\n",
    "        validation_data=validation_generator,\n",
    "        validation_steps=7178//64)"
   ]
  },
  {
   "cell_type": "code",
   "execution_count": 9,
   "id": "16c795af",
   "metadata": {},
   "outputs": [],
   "source": [
    "model_json = emotion_model.to_json()\n",
    "with open(\"emotion_model.json\", \"w\") as json_file:\n",
    "    json_file.write(model_json)\n",
    "\n",
    "\n",
    "emotion_model.save_weights('emotion_model.h5')"
   ]
  },
  {
   "cell_type": "code",
   "execution_count": null,
   "id": "c2e167c5",
   "metadata": {},
   "outputs": [],
   "source": []
  }
 ],
 "metadata": {
  "kernelspec": {
   "display_name": "Python 3 (ipykernel)",
   "language": "python",
   "name": "python3"
  },
  "language_info": {
   "codemirror_mode": {
    "name": "ipython",
    "version": 3
   },
   "file_extension": ".py",
   "mimetype": "text/x-python",
   "name": "python",
   "nbconvert_exporter": "python",
   "pygments_lexer": "ipython3",
   "version": "3.9.13"
  }
 },
 "nbformat": 4,
 "nbformat_minor": 5
}
